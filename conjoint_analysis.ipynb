{
  "nbformat": 4,
  "nbformat_minor": 0,
  "metadata": {
    "colab": {
      "provenance": []
    },
    "kernelspec": {
      "name": "python3",
      "display_name": "Python 3"
    },
    "language_info": {
      "name": "python"
    }
  },
  "cells": [
    {
      "cell_type": "code",
      "execution_count": 1,
      "metadata": {
        "colab": {
          "base_uri": "https://localhost:8080/"
        },
        "id": "UMYtAnYwIho0",
        "outputId": "bbbc1985-12c3-48ad-eb5c-ca1f205ffaca"
      },
      "outputs": [
        {
          "output_type": "stream",
          "name": "stdout",
          "text": [
            "Mounted at /content/drive\n"
          ]
        }
      ],
      "source": [
        "from google.colab import drive\n",
        "drive.mount('/content/drive')"
      ]
    },
    {
      "cell_type": "code",
      "source": [
        "import pandas as pd\n",
        "import numpy as np"
      ],
      "metadata": {
        "id": "bGC5_3lAIw-g"
      },
      "execution_count": 2,
      "outputs": []
    },
    {
      "cell_type": "code",
      "source": [
        "df = pd.read_csv('/content/drive/My Drive/pizza_data.csv')\n",
        "df"
      ],
      "metadata": {
        "colab": {
          "base_uri": "https://localhost:8080/",
          "height": 551
        },
        "id": "4GzStUDRI1vd",
        "outputId": "6eddb361-1768-4e62-d5de-2f2fe885f4d3"
      },
      "execution_count": 12,
      "outputs": [
        {
          "output_type": "execute_result",
          "data": {
            "text/plain": [
              "         brand  price weight  crust      cheese     size  toppings   spicy  \\\n",
              "0      Dominos  $1.00   100g   thin  Mozzarella  regular    paneer  normal   \n",
              "1    Pizza hut  $3.00   100g   thin     Cheddar    large  mushroom  normal   \n",
              "2       Onesta  $4.00   200g   thin  Mozzarella  regular  mushroom  normal   \n",
              "3    Pizza hut  $4.00   400g  thick     Cheddar  regular    paneer  normal   \n",
              "4    Pizza hut  $2.00   300g   thin  Mozzarella  regular  mushroom   extra   \n",
              "5    Pizza hut  $1.00   200g  thick  Mozzarella    large    paneer   extra   \n",
              "6       Onesta  $3.00   300g  thick  Mozzarella    large    paneer  normal   \n",
              "7      Dominos  $4.00   300g   thin     Cheddar    large    paneer   extra   \n",
              "8      Dominos  $2.00   400g  thick  Mozzarella    large  mushroom  normal   \n",
              "9   Oven Story  $4.00   100g  thick  Mozzarella    large  mushroom   extra   \n",
              "10      Onesta  $1.00   400g   thin     Cheddar    large  mushroom   extra   \n",
              "11  Oven Story  $2.00   200g   thin     Cheddar    large    paneer  normal   \n",
              "12  Oven Story  $1.00   300g  thick     Cheddar  regular  mushroom  normal   \n",
              "13      Onesta  $2.00   100g  thick     Cheddar  regular    paneer   extra   \n",
              "14  Oven Story  $3.00   400g   thin  Mozzarella  regular    paneer   extra   \n",
              "15     Dominos  $3.00   200g  thick     Cheddar  regular  mushroom   extra   \n",
              "\n",
              "    ranking  \n",
              "0        11  \n",
              "1        12  \n",
              "2         9  \n",
              "3         2  \n",
              "4         8  \n",
              "5        13  \n",
              "6         7  \n",
              "7         4  \n",
              "8         5  \n",
              "9        16  \n",
              "10        3  \n",
              "11        6  \n",
              "12       10  \n",
              "13       15  \n",
              "14        1  \n",
              "15       14  "
            ],
            "text/html": [
              "\n",
              "  <div id=\"df-96f3ec58-e863-46f9-a767-12c7c0ed1ed3\" class=\"colab-df-container\">\n",
              "    <div>\n",
              "<style scoped>\n",
              "    .dataframe tbody tr th:only-of-type {\n",
              "        vertical-align: middle;\n",
              "    }\n",
              "\n",
              "    .dataframe tbody tr th {\n",
              "        vertical-align: top;\n",
              "    }\n",
              "\n",
              "    .dataframe thead th {\n",
              "        text-align: right;\n",
              "    }\n",
              "</style>\n",
              "<table border=\"1\" class=\"dataframe\">\n",
              "  <thead>\n",
              "    <tr style=\"text-align: right;\">\n",
              "      <th></th>\n",
              "      <th>brand</th>\n",
              "      <th>price</th>\n",
              "      <th>weight</th>\n",
              "      <th>crust</th>\n",
              "      <th>cheese</th>\n",
              "      <th>size</th>\n",
              "      <th>toppings</th>\n",
              "      <th>spicy</th>\n",
              "      <th>ranking</th>\n",
              "    </tr>\n",
              "  </thead>\n",
              "  <tbody>\n",
              "    <tr>\n",
              "      <th>0</th>\n",
              "      <td>Dominos</td>\n",
              "      <td>$1.00</td>\n",
              "      <td>100g</td>\n",
              "      <td>thin</td>\n",
              "      <td>Mozzarella</td>\n",
              "      <td>regular</td>\n",
              "      <td>paneer</td>\n",
              "      <td>normal</td>\n",
              "      <td>11</td>\n",
              "    </tr>\n",
              "    <tr>\n",
              "      <th>1</th>\n",
              "      <td>Pizza hut</td>\n",
              "      <td>$3.00</td>\n",
              "      <td>100g</td>\n",
              "      <td>thin</td>\n",
              "      <td>Cheddar</td>\n",
              "      <td>large</td>\n",
              "      <td>mushroom</td>\n",
              "      <td>normal</td>\n",
              "      <td>12</td>\n",
              "    </tr>\n",
              "    <tr>\n",
              "      <th>2</th>\n",
              "      <td>Onesta</td>\n",
              "      <td>$4.00</td>\n",
              "      <td>200g</td>\n",
              "      <td>thin</td>\n",
              "      <td>Mozzarella</td>\n",
              "      <td>regular</td>\n",
              "      <td>mushroom</td>\n",
              "      <td>normal</td>\n",
              "      <td>9</td>\n",
              "    </tr>\n",
              "    <tr>\n",
              "      <th>3</th>\n",
              "      <td>Pizza hut</td>\n",
              "      <td>$4.00</td>\n",
              "      <td>400g</td>\n",
              "      <td>thick</td>\n",
              "      <td>Cheddar</td>\n",
              "      <td>regular</td>\n",
              "      <td>paneer</td>\n",
              "      <td>normal</td>\n",
              "      <td>2</td>\n",
              "    </tr>\n",
              "    <tr>\n",
              "      <th>4</th>\n",
              "      <td>Pizza hut</td>\n",
              "      <td>$2.00</td>\n",
              "      <td>300g</td>\n",
              "      <td>thin</td>\n",
              "      <td>Mozzarella</td>\n",
              "      <td>regular</td>\n",
              "      <td>mushroom</td>\n",
              "      <td>extra</td>\n",
              "      <td>8</td>\n",
              "    </tr>\n",
              "    <tr>\n",
              "      <th>5</th>\n",
              "      <td>Pizza hut</td>\n",
              "      <td>$1.00</td>\n",
              "      <td>200g</td>\n",
              "      <td>thick</td>\n",
              "      <td>Mozzarella</td>\n",
              "      <td>large</td>\n",
              "      <td>paneer</td>\n",
              "      <td>extra</td>\n",
              "      <td>13</td>\n",
              "    </tr>\n",
              "    <tr>\n",
              "      <th>6</th>\n",
              "      <td>Onesta</td>\n",
              "      <td>$3.00</td>\n",
              "      <td>300g</td>\n",
              "      <td>thick</td>\n",
              "      <td>Mozzarella</td>\n",
              "      <td>large</td>\n",
              "      <td>paneer</td>\n",
              "      <td>normal</td>\n",
              "      <td>7</td>\n",
              "    </tr>\n",
              "    <tr>\n",
              "      <th>7</th>\n",
              "      <td>Dominos</td>\n",
              "      <td>$4.00</td>\n",
              "      <td>300g</td>\n",
              "      <td>thin</td>\n",
              "      <td>Cheddar</td>\n",
              "      <td>large</td>\n",
              "      <td>paneer</td>\n",
              "      <td>extra</td>\n",
              "      <td>4</td>\n",
              "    </tr>\n",
              "    <tr>\n",
              "      <th>8</th>\n",
              "      <td>Dominos</td>\n",
              "      <td>$2.00</td>\n",
              "      <td>400g</td>\n",
              "      <td>thick</td>\n",
              "      <td>Mozzarella</td>\n",
              "      <td>large</td>\n",
              "      <td>mushroom</td>\n",
              "      <td>normal</td>\n",
              "      <td>5</td>\n",
              "    </tr>\n",
              "    <tr>\n",
              "      <th>9</th>\n",
              "      <td>Oven Story</td>\n",
              "      <td>$4.00</td>\n",
              "      <td>100g</td>\n",
              "      <td>thick</td>\n",
              "      <td>Mozzarella</td>\n",
              "      <td>large</td>\n",
              "      <td>mushroom</td>\n",
              "      <td>extra</td>\n",
              "      <td>16</td>\n",
              "    </tr>\n",
              "    <tr>\n",
              "      <th>10</th>\n",
              "      <td>Onesta</td>\n",
              "      <td>$1.00</td>\n",
              "      <td>400g</td>\n",
              "      <td>thin</td>\n",
              "      <td>Cheddar</td>\n",
              "      <td>large</td>\n",
              "      <td>mushroom</td>\n",
              "      <td>extra</td>\n",
              "      <td>3</td>\n",
              "    </tr>\n",
              "    <tr>\n",
              "      <th>11</th>\n",
              "      <td>Oven Story</td>\n",
              "      <td>$2.00</td>\n",
              "      <td>200g</td>\n",
              "      <td>thin</td>\n",
              "      <td>Cheddar</td>\n",
              "      <td>large</td>\n",
              "      <td>paneer</td>\n",
              "      <td>normal</td>\n",
              "      <td>6</td>\n",
              "    </tr>\n",
              "    <tr>\n",
              "      <th>12</th>\n",
              "      <td>Oven Story</td>\n",
              "      <td>$1.00</td>\n",
              "      <td>300g</td>\n",
              "      <td>thick</td>\n",
              "      <td>Cheddar</td>\n",
              "      <td>regular</td>\n",
              "      <td>mushroom</td>\n",
              "      <td>normal</td>\n",
              "      <td>10</td>\n",
              "    </tr>\n",
              "    <tr>\n",
              "      <th>13</th>\n",
              "      <td>Onesta</td>\n",
              "      <td>$2.00</td>\n",
              "      <td>100g</td>\n",
              "      <td>thick</td>\n",
              "      <td>Cheddar</td>\n",
              "      <td>regular</td>\n",
              "      <td>paneer</td>\n",
              "      <td>extra</td>\n",
              "      <td>15</td>\n",
              "    </tr>\n",
              "    <tr>\n",
              "      <th>14</th>\n",
              "      <td>Oven Story</td>\n",
              "      <td>$3.00</td>\n",
              "      <td>400g</td>\n",
              "      <td>thin</td>\n",
              "      <td>Mozzarella</td>\n",
              "      <td>regular</td>\n",
              "      <td>paneer</td>\n",
              "      <td>extra</td>\n",
              "      <td>1</td>\n",
              "    </tr>\n",
              "    <tr>\n",
              "      <th>15</th>\n",
              "      <td>Dominos</td>\n",
              "      <td>$3.00</td>\n",
              "      <td>200g</td>\n",
              "      <td>thick</td>\n",
              "      <td>Cheddar</td>\n",
              "      <td>regular</td>\n",
              "      <td>mushroom</td>\n",
              "      <td>extra</td>\n",
              "      <td>14</td>\n",
              "    </tr>\n",
              "  </tbody>\n",
              "</table>\n",
              "</div>\n",
              "    <div class=\"colab-df-buttons\">\n",
              "\n",
              "  <div class=\"colab-df-container\">\n",
              "    <button class=\"colab-df-convert\" onclick=\"convertToInteractive('df-96f3ec58-e863-46f9-a767-12c7c0ed1ed3')\"\n",
              "            title=\"Convert this dataframe to an interactive table.\"\n",
              "            style=\"display:none;\">\n",
              "\n",
              "  <svg xmlns=\"http://www.w3.org/2000/svg\" height=\"24px\" viewBox=\"0 -960 960 960\">\n",
              "    <path d=\"M120-120v-720h720v720H120Zm60-500h600v-160H180v160Zm220 220h160v-160H400v160Zm0 220h160v-160H400v160ZM180-400h160v-160H180v160Zm440 0h160v-160H620v160ZM180-180h160v-160H180v160Zm440 0h160v-160H620v160Z\"/>\n",
              "  </svg>\n",
              "    </button>\n",
              "\n",
              "  <style>\n",
              "    .colab-df-container {\n",
              "      display:flex;\n",
              "      gap: 12px;\n",
              "    }\n",
              "\n",
              "    .colab-df-convert {\n",
              "      background-color: #E8F0FE;\n",
              "      border: none;\n",
              "      border-radius: 50%;\n",
              "      cursor: pointer;\n",
              "      display: none;\n",
              "      fill: #1967D2;\n",
              "      height: 32px;\n",
              "      padding: 0 0 0 0;\n",
              "      width: 32px;\n",
              "    }\n",
              "\n",
              "    .colab-df-convert:hover {\n",
              "      background-color: #E2EBFA;\n",
              "      box-shadow: 0px 1px 2px rgba(60, 64, 67, 0.3), 0px 1px 3px 1px rgba(60, 64, 67, 0.15);\n",
              "      fill: #174EA6;\n",
              "    }\n",
              "\n",
              "    .colab-df-buttons div {\n",
              "      margin-bottom: 4px;\n",
              "    }\n",
              "\n",
              "    [theme=dark] .colab-df-convert {\n",
              "      background-color: #3B4455;\n",
              "      fill: #D2E3FC;\n",
              "    }\n",
              "\n",
              "    [theme=dark] .colab-df-convert:hover {\n",
              "      background-color: #434B5C;\n",
              "      box-shadow: 0px 1px 3px 1px rgba(0, 0, 0, 0.15);\n",
              "      filter: drop-shadow(0px 1px 2px rgba(0, 0, 0, 0.3));\n",
              "      fill: #FFFFFF;\n",
              "    }\n",
              "  </style>\n",
              "\n",
              "    <script>\n",
              "      const buttonEl =\n",
              "        document.querySelector('#df-96f3ec58-e863-46f9-a767-12c7c0ed1ed3 button.colab-df-convert');\n",
              "      buttonEl.style.display =\n",
              "        google.colab.kernel.accessAllowed ? 'block' : 'none';\n",
              "\n",
              "      async function convertToInteractive(key) {\n",
              "        const element = document.querySelector('#df-96f3ec58-e863-46f9-a767-12c7c0ed1ed3');\n",
              "        const dataTable =\n",
              "          await google.colab.kernel.invokeFunction('convertToInteractive',\n",
              "                                                    [key], {});\n",
              "        if (!dataTable) return;\n",
              "\n",
              "        const docLinkHtml = 'Like what you see? Visit the ' +\n",
              "          '<a target=\"_blank\" href=https://colab.research.google.com/notebooks/data_table.ipynb>data table notebook</a>'\n",
              "          + ' to learn more about interactive tables.';\n",
              "        element.innerHTML = '';\n",
              "        dataTable['output_type'] = 'display_data';\n",
              "        await google.colab.output.renderOutput(dataTable, element);\n",
              "        const docLink = document.createElement('div');\n",
              "        docLink.innerHTML = docLinkHtml;\n",
              "        element.appendChild(docLink);\n",
              "      }\n",
              "    </script>\n",
              "  </div>\n",
              "\n",
              "\n",
              "    <div id=\"df-8c3e33e8-e62d-4ead-bf8c-1e071e46cecc\">\n",
              "      <button class=\"colab-df-quickchart\" onclick=\"quickchart('df-8c3e33e8-e62d-4ead-bf8c-1e071e46cecc')\"\n",
              "                title=\"Suggest charts\"\n",
              "                style=\"display:none;\">\n",
              "\n",
              "<svg xmlns=\"http://www.w3.org/2000/svg\" height=\"24px\"viewBox=\"0 0 24 24\"\n",
              "     width=\"24px\">\n",
              "    <g>\n",
              "        <path d=\"M19 3H5c-1.1 0-2 .9-2 2v14c0 1.1.9 2 2 2h14c1.1 0 2-.9 2-2V5c0-1.1-.9-2-2-2zM9 17H7v-7h2v7zm4 0h-2V7h2v10zm4 0h-2v-4h2v4z\"/>\n",
              "    </g>\n",
              "</svg>\n",
              "      </button>\n",
              "\n",
              "<style>\n",
              "  .colab-df-quickchart {\n",
              "      --bg-color: #E8F0FE;\n",
              "      --fill-color: #1967D2;\n",
              "      --hover-bg-color: #E2EBFA;\n",
              "      --hover-fill-color: #174EA6;\n",
              "      --disabled-fill-color: #AAA;\n",
              "      --disabled-bg-color: #DDD;\n",
              "  }\n",
              "\n",
              "  [theme=dark] .colab-df-quickchart {\n",
              "      --bg-color: #3B4455;\n",
              "      --fill-color: #D2E3FC;\n",
              "      --hover-bg-color: #434B5C;\n",
              "      --hover-fill-color: #FFFFFF;\n",
              "      --disabled-bg-color: #3B4455;\n",
              "      --disabled-fill-color: #666;\n",
              "  }\n",
              "\n",
              "  .colab-df-quickchart {\n",
              "    background-color: var(--bg-color);\n",
              "    border: none;\n",
              "    border-radius: 50%;\n",
              "    cursor: pointer;\n",
              "    display: none;\n",
              "    fill: var(--fill-color);\n",
              "    height: 32px;\n",
              "    padding: 0;\n",
              "    width: 32px;\n",
              "  }\n",
              "\n",
              "  .colab-df-quickchart:hover {\n",
              "    background-color: var(--hover-bg-color);\n",
              "    box-shadow: 0 1px 2px rgba(60, 64, 67, 0.3), 0 1px 3px 1px rgba(60, 64, 67, 0.15);\n",
              "    fill: var(--button-hover-fill-color);\n",
              "  }\n",
              "\n",
              "  .colab-df-quickchart-complete:disabled,\n",
              "  .colab-df-quickchart-complete:disabled:hover {\n",
              "    background-color: var(--disabled-bg-color);\n",
              "    fill: var(--disabled-fill-color);\n",
              "    box-shadow: none;\n",
              "  }\n",
              "\n",
              "  .colab-df-spinner {\n",
              "    border: 2px solid var(--fill-color);\n",
              "    border-color: transparent;\n",
              "    border-bottom-color: var(--fill-color);\n",
              "    animation:\n",
              "      spin 1s steps(1) infinite;\n",
              "  }\n",
              "\n",
              "  @keyframes spin {\n",
              "    0% {\n",
              "      border-color: transparent;\n",
              "      border-bottom-color: var(--fill-color);\n",
              "      border-left-color: var(--fill-color);\n",
              "    }\n",
              "    20% {\n",
              "      border-color: transparent;\n",
              "      border-left-color: var(--fill-color);\n",
              "      border-top-color: var(--fill-color);\n",
              "    }\n",
              "    30% {\n",
              "      border-color: transparent;\n",
              "      border-left-color: var(--fill-color);\n",
              "      border-top-color: var(--fill-color);\n",
              "      border-right-color: var(--fill-color);\n",
              "    }\n",
              "    40% {\n",
              "      border-color: transparent;\n",
              "      border-right-color: var(--fill-color);\n",
              "      border-top-color: var(--fill-color);\n",
              "    }\n",
              "    60% {\n",
              "      border-color: transparent;\n",
              "      border-right-color: var(--fill-color);\n",
              "    }\n",
              "    80% {\n",
              "      border-color: transparent;\n",
              "      border-right-color: var(--fill-color);\n",
              "      border-bottom-color: var(--fill-color);\n",
              "    }\n",
              "    90% {\n",
              "      border-color: transparent;\n",
              "      border-bottom-color: var(--fill-color);\n",
              "    }\n",
              "  }\n",
              "</style>\n",
              "\n",
              "      <script>\n",
              "        async function quickchart(key) {\n",
              "          const quickchartButtonEl =\n",
              "            document.querySelector('#' + key + ' button');\n",
              "          quickchartButtonEl.disabled = true;  // To prevent multiple clicks.\n",
              "          quickchartButtonEl.classList.add('colab-df-spinner');\n",
              "          try {\n",
              "            const charts = await google.colab.kernel.invokeFunction(\n",
              "                'suggestCharts', [key], {});\n",
              "          } catch (error) {\n",
              "            console.error('Error during call to suggestCharts:', error);\n",
              "          }\n",
              "          quickchartButtonEl.classList.remove('colab-df-spinner');\n",
              "          quickchartButtonEl.classList.add('colab-df-quickchart-complete');\n",
              "        }\n",
              "        (() => {\n",
              "          let quickchartButtonEl =\n",
              "            document.querySelector('#df-8c3e33e8-e62d-4ead-bf8c-1e071e46cecc button');\n",
              "          quickchartButtonEl.style.display =\n",
              "            google.colab.kernel.accessAllowed ? 'block' : 'none';\n",
              "        })();\n",
              "      </script>\n",
              "    </div>\n",
              "\n",
              "  <div id=\"id_533a47ff-78e5-40d4-a252-07a011c56371\">\n",
              "    <style>\n",
              "      .colab-df-generate {\n",
              "        background-color: #E8F0FE;\n",
              "        border: none;\n",
              "        border-radius: 50%;\n",
              "        cursor: pointer;\n",
              "        display: none;\n",
              "        fill: #1967D2;\n",
              "        height: 32px;\n",
              "        padding: 0 0 0 0;\n",
              "        width: 32px;\n",
              "      }\n",
              "\n",
              "      .colab-df-generate:hover {\n",
              "        background-color: #E2EBFA;\n",
              "        box-shadow: 0px 1px 2px rgba(60, 64, 67, 0.3), 0px 1px 3px 1px rgba(60, 64, 67, 0.15);\n",
              "        fill: #174EA6;\n",
              "      }\n",
              "\n",
              "      [theme=dark] .colab-df-generate {\n",
              "        background-color: #3B4455;\n",
              "        fill: #D2E3FC;\n",
              "      }\n",
              "\n",
              "      [theme=dark] .colab-df-generate:hover {\n",
              "        background-color: #434B5C;\n",
              "        box-shadow: 0px 1px 3px 1px rgba(0, 0, 0, 0.15);\n",
              "        filter: drop-shadow(0px 1px 2px rgba(0, 0, 0, 0.3));\n",
              "        fill: #FFFFFF;\n",
              "      }\n",
              "    </style>\n",
              "    <button class=\"colab-df-generate\" onclick=\"generateWithVariable('df')\"\n",
              "            title=\"Generate code using this dataframe.\"\n",
              "            style=\"display:none;\">\n",
              "\n",
              "  <svg xmlns=\"http://www.w3.org/2000/svg\" height=\"24px\"viewBox=\"0 0 24 24\"\n",
              "       width=\"24px\">\n",
              "    <path d=\"M7,19H8.4L18.45,9,17,7.55,7,17.6ZM5,21V16.75L18.45,3.32a2,2,0,0,1,2.83,0l1.4,1.43a1.91,1.91,0,0,1,.58,1.4,1.91,1.91,0,0,1-.58,1.4L9.25,21ZM18.45,9,17,7.55Zm-12,3A5.31,5.31,0,0,0,4.9,8.1,5.31,5.31,0,0,0,1,6.5,5.31,5.31,0,0,0,4.9,4.9,5.31,5.31,0,0,0,6.5,1,5.31,5.31,0,0,0,8.1,4.9,5.31,5.31,0,0,0,12,6.5,5.46,5.46,0,0,0,6.5,12Z\"/>\n",
              "  </svg>\n",
              "    </button>\n",
              "    <script>\n",
              "      (() => {\n",
              "      const buttonEl =\n",
              "        document.querySelector('#id_533a47ff-78e5-40d4-a252-07a011c56371 button.colab-df-generate');\n",
              "      buttonEl.style.display =\n",
              "        google.colab.kernel.accessAllowed ? 'block' : 'none';\n",
              "\n",
              "      buttonEl.onclick = () => {\n",
              "        google.colab.notebook.generateWithVariable('df');\n",
              "      }\n",
              "      })();\n",
              "    </script>\n",
              "  </div>\n",
              "\n",
              "    </div>\n",
              "  </div>\n"
            ],
            "application/vnd.google.colaboratory.intrinsic+json": {
              "type": "dataframe",
              "variable_name": "df",
              "summary": "{\n  \"name\": \"df\",\n  \"rows\": 16,\n  \"fields\": [\n    {\n      \"column\": \"brand\",\n      \"properties\": {\n        \"dtype\": \"category\",\n        \"num_unique_values\": 4,\n        \"samples\": [\n          \"Pizza hut\",\n          \"Oven Story\",\n          \"Dominos\"\n        ],\n        \"semantic_type\": \"\",\n        \"description\": \"\"\n      }\n    },\n    {\n      \"column\": \"price\",\n      \"properties\": {\n        \"dtype\": \"category\",\n        \"num_unique_values\": 4,\n        \"samples\": [\n          \"$3.00\",\n          \"$2.00\",\n          \"$1.00\"\n        ],\n        \"semantic_type\": \"\",\n        \"description\": \"\"\n      }\n    },\n    {\n      \"column\": \"weight\",\n      \"properties\": {\n        \"dtype\": \"category\",\n        \"num_unique_values\": 4,\n        \"samples\": [\n          \"200g\",\n          \"300g\",\n          \"100g\"\n        ],\n        \"semantic_type\": \"\",\n        \"description\": \"\"\n      }\n    },\n    {\n      \"column\": \"crust\",\n      \"properties\": {\n        \"dtype\": \"category\",\n        \"num_unique_values\": 2,\n        \"samples\": [\n          \"thick\",\n          \"thin\"\n        ],\n        \"semantic_type\": \"\",\n        \"description\": \"\"\n      }\n    },\n    {\n      \"column\": \"cheese\",\n      \"properties\": {\n        \"dtype\": \"category\",\n        \"num_unique_values\": 2,\n        \"samples\": [\n          \"Cheddar\",\n          \"Mozzarella\"\n        ],\n        \"semantic_type\": \"\",\n        \"description\": \"\"\n      }\n    },\n    {\n      \"column\": \"size\",\n      \"properties\": {\n        \"dtype\": \"category\",\n        \"num_unique_values\": 2,\n        \"samples\": [\n          \"large\",\n          \"regular\"\n        ],\n        \"semantic_type\": \"\",\n        \"description\": \"\"\n      }\n    },\n    {\n      \"column\": \"toppings\",\n      \"properties\": {\n        \"dtype\": \"category\",\n        \"num_unique_values\": 2,\n        \"samples\": [\n          \"mushroom\",\n          \"paneer\"\n        ],\n        \"semantic_type\": \"\",\n        \"description\": \"\"\n      }\n    },\n    {\n      \"column\": \"spicy\",\n      \"properties\": {\n        \"dtype\": \"category\",\n        \"num_unique_values\": 2,\n        \"samples\": [\n          \"extra\",\n          \"normal\"\n        ],\n        \"semantic_type\": \"\",\n        \"description\": \"\"\n      }\n    },\n    {\n      \"column\": \"ranking\",\n      \"properties\": {\n        \"dtype\": \"number\",\n        \"std\": 4,\n        \"min\": 1,\n        \"max\": 16,\n        \"num_unique_values\": 16,\n        \"samples\": [\n          11,\n          12\n        ],\n        \"semantic_type\": \"\",\n        \"description\": \"\"\n      }\n    }\n  ]\n}"
            }
          },
          "metadata": {},
          "execution_count": 12
        }
      ]
    },
    {
      "cell_type": "code",
      "source": [
        "df.nunique()"
      ],
      "metadata": {
        "colab": {
          "base_uri": "https://localhost:8080/",
          "height": 366
        },
        "id": "xKoWM-coJjMA",
        "outputId": "1cd79f67-e9a8-4104-9532-a52200f72125"
      },
      "execution_count": 7,
      "outputs": [
        {
          "output_type": "execute_result",
          "data": {
            "text/plain": [
              "brand        4\n",
              "price        4\n",
              "weight       4\n",
              "crust        2\n",
              "cheese       2\n",
              "size         2\n",
              "toppings     2\n",
              "spicy        2\n",
              "ranking     16\n",
              "dtype: int64"
            ],
            "text/html": [
              "<div>\n",
              "<style scoped>\n",
              "    .dataframe tbody tr th:only-of-type {\n",
              "        vertical-align: middle;\n",
              "    }\n",
              "\n",
              "    .dataframe tbody tr th {\n",
              "        vertical-align: top;\n",
              "    }\n",
              "\n",
              "    .dataframe thead th {\n",
              "        text-align: right;\n",
              "    }\n",
              "</style>\n",
              "<table border=\"1\" class=\"dataframe\">\n",
              "  <thead>\n",
              "    <tr style=\"text-align: right;\">\n",
              "      <th></th>\n",
              "      <th>0</th>\n",
              "    </tr>\n",
              "  </thead>\n",
              "  <tbody>\n",
              "    <tr>\n",
              "      <th>brand</th>\n",
              "      <td>4</td>\n",
              "    </tr>\n",
              "    <tr>\n",
              "      <th>price</th>\n",
              "      <td>4</td>\n",
              "    </tr>\n",
              "    <tr>\n",
              "      <th>weight</th>\n",
              "      <td>4</td>\n",
              "    </tr>\n",
              "    <tr>\n",
              "      <th>crust</th>\n",
              "      <td>2</td>\n",
              "    </tr>\n",
              "    <tr>\n",
              "      <th>cheese</th>\n",
              "      <td>2</td>\n",
              "    </tr>\n",
              "    <tr>\n",
              "      <th>size</th>\n",
              "      <td>2</td>\n",
              "    </tr>\n",
              "    <tr>\n",
              "      <th>toppings</th>\n",
              "      <td>2</td>\n",
              "    </tr>\n",
              "    <tr>\n",
              "      <th>spicy</th>\n",
              "      <td>2</td>\n",
              "    </tr>\n",
              "    <tr>\n",
              "      <th>ranking</th>\n",
              "      <td>16</td>\n",
              "    </tr>\n",
              "  </tbody>\n",
              "</table>\n",
              "</div><br><label><b>dtype:</b> int64</label>"
            ]
          },
          "metadata": {},
          "execution_count": 7
        }
      ]
    },
    {
      "cell_type": "markdown",
      "source": [
        "As we can see in the data, this store has 8 attributes of Pizza 🍕 they want to analyze, namely - brand, price, weight, crust, cheese, size, toppings, spicy.\n",
        "\n",
        "\n",
        "Brand, Price and Weight have 4 levels each whereas the rest of the attributes have 2 levels each!\n",
        "\n",
        "\n",
        "We have a ranking column which states the ranking of the combination of levels in each row. There are 16 distinct combinations and each is given a unique rank based on user preferences."
      ],
      "metadata": {
        "id": "MLRt3csLJCTz"
      }
    },
    {
      "cell_type": "code",
      "source": [
        "import statsmodels.api as sm\n",
        "import statsmodels.formula.api as smf\n",
        "\n",
        "\n",
        "# Define the model formula using a regression model where 'ranking' is the dependent variable.\n",
        "# 'C(brand, Sum)' denotes that the variable 'brand' is treated as a categorical variable,\n",
        "# and the 'Sum' contrast coding scheme is applied. This is repeated for other variables.\n",
        "\n",
        "model='ranking ~ C(brand,Sum)+C(price,Sum)+C(weight,Sum)+C(crust,Sum)+C(cheese,Sum)+C(size,Sum)+C(toppings,Sum)+C(spicy,Sum)'\n",
        "\n",
        "# Fit the Ordinary Least Squares (OLS) regression model to the data using the specified formula.\n",
        "# The formula API (`smf.ols`) allows for the convenient specification of models using a formula string.\n",
        "# Here, the dependent variable is 'ranking', and the independent variables are the specified categorical predictors.\n",
        "\n",
        "model_fit=smf.ols(model,data=df).fit()\n",
        "\n",
        "# Display the summary of the fitted regression model.\n",
        "# This includes information such as coefficients, R-squared, p-values, and other diagnostic statistics.\n",
        "\n",
        "print(model_fit.summary())"
      ],
      "metadata": {
        "colab": {
          "base_uri": "https://localhost:8080/"
        },
        "id": "WLO81ZtVI_Zl",
        "outputId": "f3f7fdbb-ad19-40d7-b347-88f587304fef"
      },
      "execution_count": 11,
      "outputs": [
        {
          "output_type": "stream",
          "name": "stdout",
          "text": [
            "                            OLS Regression Results                            \n",
            "==============================================================================\n",
            "Dep. Variable:                ranking   R-squared:                       0.999\n",
            "Model:                            OLS   Adj. R-squared:                  0.989\n",
            "Method:                 Least Squares   F-statistic:                     97.07\n",
            "Date:                Sat, 26 Apr 2025   Prob (F-statistic):             0.0794\n",
            "Time:                        08:20:03   Log-Likelihood:                 10.568\n",
            "No. Observations:                  16   AIC:                             8.864\n",
            "Df Residuals:                       1   BIC:                             20.45\n",
            "Df Model:                          14                                         \n",
            "Covariance Type:            nonrobust                                         \n",
            "================================================================================================\n",
            "                                   coef    std err          t      P>|t|      [0.025      0.975]\n",
            "------------------------------------------------------------------------------------------------\n",
            "Intercept                        8.5000      0.125     68.000      0.009       6.912      10.088\n",
            "C(brand, Sum)[S.Dominos]     -2.887e-15      0.217  -1.33e-14      1.000      -2.751       2.751\n",
            "C(brand, Sum)[S.Onesta]       1.243e-14      0.217   5.74e-14      1.000      -2.751       2.751\n",
            "C(brand, Sum)[S.Oven Story]     -0.2500      0.217     -1.155      0.454      -3.001       2.501\n",
            "C(price, Sum)[S.$1.00]           0.7500      0.217      3.464      0.179      -2.001       3.501\n",
            "C(price, Sum)[S.$2.00]        3.553e-15      0.217   1.64e-14      1.000      -2.751       2.751\n",
            "C(price, Sum)[S.$3.00]       -5.773e-15      0.217  -2.67e-14      1.000      -2.751       2.751\n",
            "C(weight, Sum)[S.100g]           5.0000      0.217     23.094      0.028       2.249       7.751\n",
            "C(weight, Sum)[S.200g]           2.0000      0.217      9.238      0.069      -0.751       4.751\n",
            "C(weight, Sum)[S.300g]          -1.2500      0.217     -5.774      0.109      -4.001       1.501\n",
            "C(crust, Sum)[S.thick]           1.7500      0.125     14.000      0.045       0.162       3.338\n",
            "C(cheese, Sum)[S.Cheddar]       -0.2500      0.125     -2.000      0.295      -1.838       1.338\n",
            "C(size, Sum)[S.large]           -0.2500      0.125     -2.000      0.295      -1.838       1.338\n",
            "C(toppings, Sum)[S.mushroom]     1.1250      0.125      9.000      0.070      -0.463       2.713\n",
            "C(spicy, Sum)[S.extra]           0.7500      0.125      6.000      0.105      -0.838       2.338\n",
            "==============================================================================\n",
            "Omnibus:                       29.718   Durbin-Watson:                   2.000\n",
            "Prob(Omnibus):                  0.000   Jarque-Bera (JB):                2.667\n",
            "Skew:                          -0.000   Prob(JB):                        0.264\n",
            "Kurtosis:                       1.000   Cond. No.                         2.00\n",
            "==============================================================================\n",
            "\n",
            "Notes:\n",
            "[1] Standard Errors assume that the covariance matrix of the errors is correctly specified.\n"
          ]
        },
        {
          "output_type": "stream",
          "name": "stderr",
          "text": [
            "/usr/local/lib/python3.11/dist-packages/scipy/stats/_axis_nan_policy.py:418: UserWarning: `kurtosistest` p-value may be inaccurate with fewer than 20 observations; only n=16 observations were given.\n",
            "  return hypotest_fun_in(*args, **kwds)\n"
          ]
        }
      ]
    },
    {
      "cell_type": "code",
      "source": [
        "conjoint_attributes = ['brand','price','weight','crust','cheese','size','toppings','spicy']"
      ],
      "metadata": {
        "id": "-vZFS5KsLSj4"
      },
      "execution_count": 13,
      "outputs": []
    },
    {
      "cell_type": "markdown",
      "source": [
        "Next, I am calculating the Utility Values/Part-worths: The amount of weight an attribute level carries with a respondent. These factors lead to a product’s overall value to consumers."
      ],
      "metadata": {
        "id": "ICrAc0okO1uI"
      }
    },
    {
      "cell_type": "code",
      "source": [
        "level_name = []  # Stores the unique levels (categories) for each attribute.\n",
        "part_worth = []  # Stores the part-worth values for each of the levels of each attribute.\n",
        "part_worth_range = []  # Stores the range of part-worth values for each attribute.\n",
        "important_levels = {}  # A dictionary to store the most important level for each attribute.\n",
        "end = 1  # Initialize index for coefficient in params\n",
        "\n",
        "\n",
        "# Loop through all attributes included in the conjoint analysis.\n",
        "\n",
        "for item in conjoint_attributes:\n",
        "\n",
        "    # Determine the number of unique levels for the current attribute.\n",
        "    nlevels = len(list(np.unique(df[item])))\n",
        "    level_name.append(list(np.unique(df[item]))) # Append the list of unique levels to `level_name`.\n",
        "\n",
        "    begin = end\n",
        "    end = begin + nlevels -1\n",
        "\n",
        "\n",
        "    # Extract the part-worth coefficients for the current attribute from the model's parameters. These are same the the\n",
        "    # regression coefficients that we got in the model that we ran\n",
        "    new_part_worth = list(model_fit.params[begin:end])\n",
        "    new_part_worth.append((-1)*sum(new_part_worth))\n",
        "    important_levels[item] = np.argmax(new_part_worth)\n",
        "    part_worth.append(new_part_worth)\n",
        "    print(item)\n",
        "    #print(part_worth)\n",
        "    part_worth_range.append(max(new_part_worth) - min(new_part_worth))\n",
        "    # next iteration\n",
        "print(\"-------------------------------------------------------------\")\n",
        "print(\"List of all the levels name for each of the 8 attributes:\")\n",
        "print(level_name)\n",
        "\n",
        "print(\"part worth values for all the levels name for each of the 8 attributes:\")\n",
        "print(part_worth)\n",
        "\n",
        "print(\"part worth range for each of the attributes:\")\n",
        "print(part_worth_range)\n",
        "\n",
        "print(\"Total number of attributes:\")\n",
        "print(len(part_worth))\n",
        "\n",
        "print(\"most important level for each of the attributes\")\n",
        "print(important_levels)"
      ],
      "metadata": {
        "colab": {
          "base_uri": "https://localhost:8080/"
        },
        "id": "PZQhfn4jMJVE",
        "outputId": "04c4af02-d361-4118-d884-1d896981303c"
      },
      "execution_count": 15,
      "outputs": [
        {
          "output_type": "stream",
          "name": "stdout",
          "text": [
            "brand\n",
            "price\n",
            "weight\n",
            "crust\n",
            "cheese\n",
            "size\n",
            "toppings\n",
            "spicy\n",
            "-------------------------------------------------------------\n",
            "List of all the levels name for each of the 8 attributes:\n",
            "[['Dominos', 'Onesta', 'Oven Story', 'Pizza hut'], ['$1.00', '$2.00', '$3.00', '$4.00'], ['100g', '200g', '300g', '400g'], ['thick', 'thin'], ['Cheddar', 'Mozzarella'], ['large', 'regular'], ['mushroom', 'paneer'], ['extra', 'normal']]\n",
            "part worth values for all the levels name for each of the 8 attributes:\n",
            "[[-2.886579864025407e-15, 1.2434497875801753e-14, -0.2500000000000103, 0.2500000000000008], [0.7500000000000036, 3.552713678800501e-15, -5.773159728050814e-15, -0.7500000000000013], [5.000000000000005, 1.9999999999999982, -1.2500000000000009, -5.750000000000003], [1.7499999999999993, -1.7499999999999993], [-0.24999999999999978, 0.24999999999999978], [-0.2500000000000011, 0.2500000000000011], [1.1249999999999991, -1.1249999999999991], [0.7500000000000009, -0.7500000000000009]]\n",
            "part worth range for each of the attributes:\n",
            "[0.5000000000000111, 1.5000000000000049, 10.750000000000007, 3.4999999999999987, 0.49999999999999956, 0.5000000000000022, 2.2499999999999982, 1.5000000000000018]\n",
            "Total number of attributes:\n",
            "8\n",
            "most important level for each of the attributes\n",
            "{'brand': np.int64(3), 'price': np.int64(0), 'weight': np.int64(0), 'crust': np.int64(0), 'cheese': np.int64(1), 'size': np.int64(1), 'toppings': np.int64(0), 'spicy': np.int64(0)}\n"
          ]
        }
      ]
    },
    {
      "cell_type": "markdown",
      "source": [
        "Now, we will calculate the importance of each attribute.\n",
        "\n",
        "\n",
        "Relative importance: It depicts which attributes are more or less important when purchasing. E.g., a Mobile Phone’s Relative importance could be Brand 30%, Price 30%, Size 20%, Battery Life 10%, and Color 10%."
      ],
      "metadata": {
        "id": "YHjpH1THaX7z"
      }
    },
    {
      "cell_type": "code",
      "source": [
        "#the higher the range of part-worth, the higher the importance of the attribute.\n",
        "# I am calculating the importance as a % of the total range of part-worths.\n",
        "\n",
        "attribute_importance = []\n",
        "for i in part_worth_range:\n",
        "    #print(i)\n",
        "    attribute_importance.append(round(100*(i/sum(part_worth_range)),2))\n",
        "print(attribute_importance)"
      ],
      "metadata": {
        "colab": {
          "base_uri": "https://localhost:8080/"
        },
        "id": "wDF2XXbwPTKa",
        "outputId": "166af40b-77ac-4430-b572-63b291c598b1"
      },
      "execution_count": 16,
      "outputs": [
        {
          "output_type": "stream",
          "name": "stdout",
          "text": [
            "[2.38, 7.14, 51.19, 16.67, 2.38, 2.38, 10.71, 7.14]\n"
          ]
        }
      ]
    },
    {
      "cell_type": "markdown",
      "source": [
        "I am just printing the names of the attributes, levels and their respective part-worths/utility-values.\n",
        "\n"
      ],
      "metadata": {
        "id": "4gIhYyQycqhN"
      }
    },
    {
      "cell_type": "code",
      "source": [
        "part_worth_dict={}\n",
        "attrib_level={}\n",
        "for item,i in zip(conjoint_attributes,range(0,len(conjoint_attributes))):\n",
        "    print(\"Attribute :\",item)\n",
        "    print(\"Relative importance of attribute \",attribute_importance[i])\n",
        "    print(\"Level wise part worths: \")\n",
        "    for j in range(0,len(level_name[i])):\n",
        "        print(i,j, \"    {}:{}\".format(level_name[i][j],part_worth[i][j]))\n",
        "        part_worth_dict[level_name[i][j]]=part_worth[i][j]\n",
        "        attrib_level[item]=(level_name[i])\n",
        "    print(\"\\n\")\n",
        "\n",
        "print(\"------------------------------------------------\")\n",
        "part_worth_dict"
      ],
      "metadata": {
        "colab": {
          "base_uri": "https://localhost:8080/"
        },
        "id": "Tq06DSC5cEl_",
        "outputId": "3a521baa-dd27-4e51-b262-1e8f1d2ab70b"
      },
      "execution_count": 27,
      "outputs": [
        {
          "output_type": "stream",
          "name": "stdout",
          "text": [
            "Attribute : brand\n",
            "Relative importance of attribute  2.38\n",
            "Level wise part worths: \n",
            "0 0     Dominos:-2.886579864025407e-15\n",
            "0 1     Onesta:1.2434497875801753e-14\n",
            "0 2     Oven Story:-0.2500000000000103\n",
            "0 3     Pizza hut:0.2500000000000008\n",
            "\n",
            "\n",
            "Attribute : price\n",
            "Relative importance of attribute  7.14\n",
            "Level wise part worths: \n",
            "1 0     $1.00:0.7500000000000036\n",
            "1 1     $2.00:3.552713678800501e-15\n",
            "1 2     $3.00:-5.773159728050814e-15\n",
            "1 3     $4.00:-0.7500000000000013\n",
            "\n",
            "\n",
            "Attribute : weight\n",
            "Relative importance of attribute  51.19\n",
            "Level wise part worths: \n",
            "2 0     100g:5.000000000000005\n",
            "2 1     200g:1.9999999999999982\n",
            "2 2     300g:-1.2500000000000009\n",
            "2 3     400g:-5.750000000000003\n",
            "\n",
            "\n",
            "Attribute : crust\n",
            "Relative importance of attribute  16.67\n",
            "Level wise part worths: \n",
            "3 0     thick:1.7499999999999993\n",
            "3 1     thin:-1.7499999999999993\n",
            "\n",
            "\n",
            "Attribute : cheese\n",
            "Relative importance of attribute  2.38\n",
            "Level wise part worths: \n",
            "4 0     Cheddar:-0.24999999999999978\n",
            "4 1     Mozzarella:0.24999999999999978\n",
            "\n",
            "\n",
            "Attribute : size\n",
            "Relative importance of attribute  2.38\n",
            "Level wise part worths: \n",
            "5 0     large:-0.2500000000000011\n",
            "5 1     regular:0.2500000000000011\n",
            "\n",
            "\n",
            "Attribute : toppings\n",
            "Relative importance of attribute  10.71\n",
            "Level wise part worths: \n",
            "6 0     mushroom:1.1249999999999991\n",
            "6 1     paneer:-1.1249999999999991\n",
            "\n",
            "\n",
            "Attribute : spicy\n",
            "Relative importance of attribute  7.14\n",
            "Level wise part worths: \n",
            "7 0     extra:0.7500000000000009\n",
            "7 1     normal:-0.7500000000000009\n",
            "\n",
            "\n",
            "------------------------------------------------\n"
          ]
        },
        {
          "output_type": "execute_result",
          "data": {
            "text/plain": [
              "{'Dominos': -2.886579864025407e-15,\n",
              " 'Onesta': 1.2434497875801753e-14,\n",
              " 'Oven Story': -0.2500000000000103,\n",
              " 'Pizza hut': 0.2500000000000008,\n",
              " '$1.00': 0.7500000000000036,\n",
              " '$2.00': 3.552713678800501e-15,\n",
              " '$3.00': -5.773159728050814e-15,\n",
              " '$4.00': -0.7500000000000013,\n",
              " '100g': 5.000000000000005,\n",
              " '200g': 1.9999999999999982,\n",
              " '300g': -1.2500000000000009,\n",
              " '400g': -5.750000000000003,\n",
              " 'thick': 1.7499999999999993,\n",
              " 'thin': -1.7499999999999993,\n",
              " 'Cheddar': -0.24999999999999978,\n",
              " 'Mozzarella': 0.24999999999999978,\n",
              " 'large': -0.2500000000000011,\n",
              " 'regular': 0.2500000000000011,\n",
              " 'mushroom': 1.1249999999999991,\n",
              " 'paneer': -1.1249999999999991,\n",
              " 'extra': 0.7500000000000009,\n",
              " 'normal': -0.7500000000000009}"
            ]
          },
          "metadata": {},
          "execution_count": 27
        }
      ]
    },
    {
      "cell_type": "markdown",
      "source": [
        "Lets now plot the relative importance values for all the attributes"
      ],
      "metadata": {
        "id": "YALZJfy0hNWF"
      }
    },
    {
      "cell_type": "code",
      "source": [
        "import matplotlib.pyplot as plt  # For creating the plot\n",
        "import seaborn as sns  # For the bar plot with enhanced visualization\n",
        "\n",
        "plt.figure(figsize=(10,5))\n",
        "sns.barplot(x=conjoint_attributes,y=attribute_importance)\n",
        "plt.title('Relative Importance of Attributes')\n",
        "plt.xlabel('Attributes')\n",
        "plt.ylabel('Importance')"
      ],
      "metadata": {
        "colab": {
          "base_uri": "https://localhost:8080/",
          "height": 504
        },
        "id": "ExvR17lccr3Z",
        "outputId": "9fc74a4f-ec8b-4994-c85b-526eb0a0f77d"
      },
      "execution_count": 29,
      "outputs": [
        {
          "output_type": "execute_result",
          "data": {
            "text/plain": [
              "Text(0, 0.5, 'Importance')"
            ]
          },
          "metadata": {},
          "execution_count": 29
        },
        {
          "output_type": "display_data",
          "data": {
            "text/plain": [
              "<Figure size 1000x500 with 1 Axes>"
            ],
            "image/png": "[encoded data removed]"
          },
          "metadata": {}
        }
      ]
    },
    {
      "cell_type": "markdown",
      "source": [
        "###Weight has the highest importance in choosing the pizza of 51%, whereas the factors like brand, cheese, and size matter the least at 2.38%"
      ],
      "metadata": {
        "id": "NvBZu9VehwRx"
      }
    },
    {
      "cell_type": "markdown",
      "source": [
        "Now, I am calculating the total utility score for each of the 16 profiles that we have. This will help us identify the best pizza profile to sell."
      ],
      "metadata": {
        "id": "CkBdbANhiUwJ"
      }
    },
    {
      "cell_type": "code",
      "source": [
        "utility = []\n",
        "for i in range(df.shape[0]):\n",
        "    score = part_worth_dict[df['brand'][i]]+part_worth_dict[df['price'][i]]+part_worth_dict[df['weight'][i]]+part_worth_dict[df['crust'][i]]+part_worth_dict[df['cheese'][i]]+part_worth_dict[df['size'][i]] +part_worth_dict[df['toppings'][i]]+part_worth_dict[df['spicy'][i]]\n",
        "    utility.append(score)\n",
        "\n",
        "df['utility'] = utility\n",
        "utility"
      ],
      "metadata": {
        "colab": {
          "base_uri": "https://localhost:8080/"
        },
        "id": "j3AAYjyLhWjd",
        "outputId": "841e0c76-bb00-49cb-cfac-8b63827d2413"
      },
      "execution_count": 33,
      "outputs": [
        {
          "output_type": "execute_result",
          "data": {
            "text/plain": [
              "[2.625000000000008,\n",
              " 3.3749999999999982,\n",
              " 0.3750000000000091,\n",
              " -6.3750000000000036,\n",
              " -0.37499999999999556,\n",
              " 4.375000000000003,\n",
              " -1.3749999999999962,\n",
              " -4.6250000000000036,\n",
              " -3.6250000000000053,\n",
              " 7.624999999999992,\n",
              " -5.374999999999987,\n",
              " -2.375000000000009,\n",
              " 1.3749999999999911,\n",
              " 6.375000000000023,\n",
              " -7.625000000000015,\n",
              " 5.62499999999999]"
            ]
          },
          "metadata": {},
          "execution_count": 33
        }
      ]
    },
    {
      "cell_type": "code",
      "source": [
        "import matplotlib.pyplot as plt\n",
        "import seaborn as sns\n",
        "\n",
        "# Create an index for the profiles\n",
        "profiles = [f'Profile {i+1}' for i in range(len(utility))]\n",
        "\n",
        "# Set up the plot\n",
        "plt.figure(figsize=(12, 5))\n",
        "sns.barplot(x=profiles, y=utility, color=\"magenta\")\n",
        "\n",
        "# Add titles and labels\n",
        "plt.title('Utility Scores for All Profiles', fontsize=16)\n",
        "plt.xlabel('Profiles', fontsize=12)\n",
        "plt.ylabel('Utility Score', fontsize=12)\n",
        "\n",
        "# Add a horizontal line at y=0 for clarity\n",
        "plt.axhline(0, color='black', linewidth=1, linestyle='--')\n",
        "\n",
        "# Rotate x-axis labels for better readability\n",
        "plt.xticks(rotation=45)\n",
        "\n",
        "# Show the plot\n",
        "plt.tight_layout()\n",
        "plt.show()\n"
      ],
      "metadata": {
        "colab": {
          "base_uri": "https://localhost:8080/",
          "height": 507
        },
        "id": "LFDmI_vZinyZ",
        "outputId": "c15520a3-2aae-46d3-ee8e-b6c39917eece"
      },
      "execution_count": 41,
      "outputs": [
        {
          "output_type": "display_data",
          "data": {
            "text/plain": [
              "<Figure size 1200x500 with 1 Axes>"
            ],
            "image/png": "[encoded data removed]"
          },
          "metadata": {}
        }
      ]
    },
    {
      "cell_type": "markdown",
      "source": [
        "We can see that profile number 10 has the highest desirability followed by profile 14 and 16. Profile 15 is the most disliked kind of pizza."
      ],
      "metadata": {
        "id": "8VzRKbTTkFy_"
      }
    },
    {
      "cell_type": "code",
      "source": [
        "print(\"The profile that has the highest utility score :\",'\\n', df.iloc[np.argmax(utility)])"
      ],
      "metadata": {
        "colab": {
          "base_uri": "https://localhost:8080/"
        },
        "id": "0HLMEvYojNZU",
        "outputId": "683e0060-941f-4c87-84a9-bd4f3c905737"
      },
      "execution_count": 44,
      "outputs": [
        {
          "output_type": "stream",
          "name": "stdout",
          "text": [
            "The profile that has the highest utility score : \n",
            " brand       Oven Story\n",
            "price            $4.00\n",
            "weight            100g\n",
            "crust            thick\n",
            "cheese      Mozzarella\n",
            "size             large\n",
            "toppings      mushroom\n",
            "spicy            extra\n",
            "ranking             16\n",
            "utility          7.625\n",
            "Name: 9, dtype: object\n"
          ]
        }
      ]
    },
    {
      "cell_type": "markdown",
      "source": [
        "#🍕If we are planning to sell pizzas, we should have the above levels for each of the 8 attributes of the pizza we sell.🍕"
      ],
      "metadata": {
        "id": "6O3tOiPdkrM-"
      }
    },
    {
      "cell_type": "code",
      "source": [],
      "metadata": {
        "id": "_oD99VLikH76"
      },
      "execution_count": null,
      "outputs": []
    }
  ]
}